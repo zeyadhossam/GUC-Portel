{
  "nbformat": 4,
  "nbformat_minor": 0,
  "metadata": {
    "kernelspec": {
      "display_name": "Python 3",
      "language": "python",
      "name": "python3"
    },
    "language_info": {
      "codemirror_mode": {
        "name": "ipython",
        "version": 3
      },
      "file_extension": ".py",
      "mimetype": "text/x-python",
      "name": "python",
      "nbconvert_exporter": "python",
      "pygments_lexer": "ipython3",
      "version": "3.8.5"
    },
    "colab": {
      "name": "Copy of Mini-Project_1.ipynb",
      "provenance": [],
      "collapsed_sections": [],
      "include_colab_link": true
    }
  },
  "cells": [
    {
      "cell_type": "markdown",
      "metadata": {
        "id": "view-in-github",
        "colab_type": "text"
      },
      "source": [
        "<a href=\"https://colab.research.google.com/github/zeyadhossam/GUC-Portel/blob/master/Copy_of_Mini_Project_1.ipynb\" target=\"_parent\"><img src=\"https://colab.research.google.com/assets/colab-badge.svg\" alt=\"Open In Colab\"/></a>"
      ]
    },
    {
      "cell_type": "markdown",
      "metadata": {
        "id": "Semet7diVsyX"
      },
      "source": [
        "# Mini-Project 1 - Classification"
      ]
    },
    {
      "cell_type": "markdown",
      "metadata": {
        "id": "Q8hHwyYsVsyn"
      },
      "source": [
        "***Edit this cell with your name(s), tutorial number(s) and ID(s)***\n",
        "\n",
        "---\n",
        "\n",
        "Name: Zeyad Hossam\n",
        "\n",
        "ID: 43-10793\n",
        "\n",
        "Tutorial: T09\n",
        "\n",
        "---\n",
        "\n",
        "Name: Peter Gamal\n",
        "\n",
        "ID: 43-16762 \n",
        "\n",
        "Tutorial: T03\n",
        "\n",
        "---\n"
      ]
    },
    {
      "cell_type": "markdown",
      "metadata": {
        "id": "-qqKaK5-Vsyo"
      },
      "source": [
        "## Dataset Description\n",
        "\n",
        "The data set includes information about:\n",
        "\n",
        "- Customers who left within the last month – the column is called Churn\n",
        "- Services that each customer has signed up for – phone, multiple lines, internet, online security, online backup, device protection, tech support, and streaming TV and movies\n",
        "- Customer account information – how long they’ve been a customer, contract, payment method, paperless billing, monthly charges, and total charges\n",
        "- Demographic info about customers – gender, age range, and if they have partners and dependents\n",
        "\n",
        "Each row represents a customer, and each column represents customer attributes as described below.\n",
        "\n",
        "| Column | Description|\n",
        "|-|-|\n",
        "|gender|Whether the customer is a male or a female|\n",
        "|SeniorCitizen| Whether the customer is a senior citizen or not (1, 0)|\n",
        "|Partner|Whether the customer has a partner or not (Yes, No)|\n",
        "|Dependents|Whether the customer has dependents or not (Yes, No)|\n",
        "|tenure| Number of months the customer has stayed with the company|\n",
        "|PhoneService|Whether the customer has a phone service or not (Yes, No)|\n",
        "|MultipleLines|Whether the customer has multiple lines or not (Yes, No, No phone service)|\n",
        "|InternetService|Customer’s internet service provider (DSL, Fiber optic, No)|\n",
        "|OnlineSecurity|Whether the customer has online security or not (Yes, No, No internet service)|\n",
        "|OnlineBackup|Whether the customer has online backup or not (Yes, No, No internet service)|\n",
        "|DeviceProtection|Whether the customer has device protection or not (Yes, No, No internet service)|\n",
        "|TechSupport|Whether the customer has tech support or not (Yes, No, No internet service)|\n",
        "|StreamingTV|Whether the customer has streaming TV or not (Yes, No, No internet service) |\n",
        "|StreamingMovies|Whether the customer has streaming movies or not (Yes, No, No internet service)|\n",
        "|Contract|The contract term of the customer (Month-to-month, One year, Two year)|\n",
        "|PaperlessBilling|Whether the customer has paperless billing or not (Yes, No)|\n",
        "|PaymentMethod|The customer’s payment method (Electronic check, Mailed check, Bank transfer (automatic), Credit card (automatic))|\n",
        "|MonthlyCharges|The amount charged to the customer monthly|\n",
        "|TotalCharges|The total amount charged to the customer|\n",
        "|Churn|Whether the customer churned or not (Yes or No)|"
      ]
    },
    {
      "cell_type": "markdown",
      "metadata": {
        "id": "W4r8ee9ZVsyp"
      },
      "source": [
        "## Importing Libraries \\& Dataset"
      ]
    },
    {
      "cell_type": "code",
      "metadata": {
        "id": "kFVGgnQ_Vsyq"
      },
      "source": [
        "import pandas as pd\n",
        "import numpy as np\n",
        "import matplotlib.pyplot as plt\n",
        "import seaborn as sns\n",
        "\n",
        "\n",
        "%matplotlib inline\n",
        "plt.style.use(\"seaborn\")\n",
        "\n",
        "try:\n",
        "    df = pd.read_csv('telecom_churn.csv')\n",
        "except:\n",
        "    df = pd.read_csv('https://raw.githubusercontent.com/GUC-DM/W2020/main/data/telecom_churn.csv')"
      ],
      "execution_count": 25,
      "outputs": []
    },
    {
      "cell_type": "markdown",
      "metadata": {
        "id": "Q6wlR2dFVsyq"
      },
      "source": [
        "## Data Inspection & Cleaning (if any)"
      ]
    },
    {
      "cell_type": "code",
      "metadata": {
        "id": "LEskbkZAqBss",
        "colab": {
          "base_uri": "https://localhost:8080/",
          "height": 609
        },
        "outputId": "992bbc60-cb12-4077-acbc-66ab521f2cc1"
      },
      "source": [
        "df"
      ],
      "execution_count": 26,
      "outputs": [
        {
          "output_type": "execute_result",
          "data": {
            "text/html": [
              "<div>\n",
              "<style scoped>\n",
              "    .dataframe tbody tr th:only-of-type {\n",
              "        vertical-align: middle;\n",
              "    }\n",
              "\n",
              "    .dataframe tbody tr th {\n",
              "        vertical-align: top;\n",
              "    }\n",
              "\n",
              "    .dataframe thead th {\n",
              "        text-align: right;\n",
              "    }\n",
              "</style>\n",
              "<table border=\"1\" class=\"dataframe\">\n",
              "  <thead>\n",
              "    <tr style=\"text-align: right;\">\n",
              "      <th></th>\n",
              "      <th>customerID</th>\n",
              "      <th>gender</th>\n",
              "      <th>SeniorCitizen</th>\n",
              "      <th>Partner</th>\n",
              "      <th>Dependents</th>\n",
              "      <th>tenure</th>\n",
              "      <th>PhoneService</th>\n",
              "      <th>MultipleLines</th>\n",
              "      <th>InternetService</th>\n",
              "      <th>OnlineSecurity</th>\n",
              "      <th>OnlineBackup</th>\n",
              "      <th>DeviceProtection</th>\n",
              "      <th>TechSupport</th>\n",
              "      <th>StreamingTV</th>\n",
              "      <th>StreamingMovies</th>\n",
              "      <th>Contract</th>\n",
              "      <th>PaperlessBilling</th>\n",
              "      <th>PaymentMethod</th>\n",
              "      <th>MonthlyCharges</th>\n",
              "      <th>TotalCharges</th>\n",
              "      <th>Churn</th>\n",
              "    </tr>\n",
              "  </thead>\n",
              "  <tbody>\n",
              "    <tr>\n",
              "      <th>0</th>\n",
              "      <td>7590-VHVEG</td>\n",
              "      <td>Female</td>\n",
              "      <td>0</td>\n",
              "      <td>Yes</td>\n",
              "      <td>No</td>\n",
              "      <td>1</td>\n",
              "      <td>No</td>\n",
              "      <td>No phone service</td>\n",
              "      <td>DSL</td>\n",
              "      <td>No</td>\n",
              "      <td>Yes</td>\n",
              "      <td>No</td>\n",
              "      <td>No</td>\n",
              "      <td>No</td>\n",
              "      <td>No</td>\n",
              "      <td>Month-to-month</td>\n",
              "      <td>Yes</td>\n",
              "      <td>Electronic check</td>\n",
              "      <td>$29.85/m</td>\n",
              "      <td>$29.85</td>\n",
              "      <td>No</td>\n",
              "    </tr>\n",
              "    <tr>\n",
              "      <th>1</th>\n",
              "      <td>5575-GNVDE</td>\n",
              "      <td>Male</td>\n",
              "      <td>0</td>\n",
              "      <td>No</td>\n",
              "      <td>No</td>\n",
              "      <td>34</td>\n",
              "      <td>Yes</td>\n",
              "      <td>No</td>\n",
              "      <td>DSL</td>\n",
              "      <td>Yes</td>\n",
              "      <td>No</td>\n",
              "      <td>Yes</td>\n",
              "      <td>No</td>\n",
              "      <td>No</td>\n",
              "      <td>No</td>\n",
              "      <td>One year</td>\n",
              "      <td>No</td>\n",
              "      <td>Mailed check</td>\n",
              "      <td>$56.95/m</td>\n",
              "      <td>$1889.5</td>\n",
              "      <td>No</td>\n",
              "    </tr>\n",
              "    <tr>\n",
              "      <th>2</th>\n",
              "      <td>3668-QPYBK</td>\n",
              "      <td>Male</td>\n",
              "      <td>0</td>\n",
              "      <td>No</td>\n",
              "      <td>No</td>\n",
              "      <td>2</td>\n",
              "      <td>Yes</td>\n",
              "      <td>No</td>\n",
              "      <td>DSL</td>\n",
              "      <td>Yes</td>\n",
              "      <td>Yes</td>\n",
              "      <td>No</td>\n",
              "      <td>No</td>\n",
              "      <td>No</td>\n",
              "      <td>No</td>\n",
              "      <td>Month-to-month</td>\n",
              "      <td>Yes</td>\n",
              "      <td>Mailed check</td>\n",
              "      <td>$53.85/m</td>\n",
              "      <td>$108.15</td>\n",
              "      <td>Yes</td>\n",
              "    </tr>\n",
              "    <tr>\n",
              "      <th>3</th>\n",
              "      <td>7795-CFOCW</td>\n",
              "      <td>Male</td>\n",
              "      <td>0</td>\n",
              "      <td>No</td>\n",
              "      <td>No</td>\n",
              "      <td>45</td>\n",
              "      <td>No</td>\n",
              "      <td>No phone service</td>\n",
              "      <td>DSL</td>\n",
              "      <td>Yes</td>\n",
              "      <td>No</td>\n",
              "      <td>Yes</td>\n",
              "      <td>Yes</td>\n",
              "      <td>No</td>\n",
              "      <td>No</td>\n",
              "      <td>One year</td>\n",
              "      <td>No</td>\n",
              "      <td>Bank transfer (automatic)</td>\n",
              "      <td>$42.3/m</td>\n",
              "      <td>$1840.75</td>\n",
              "      <td>No</td>\n",
              "    </tr>\n",
              "    <tr>\n",
              "      <th>4</th>\n",
              "      <td>9237-HQITU</td>\n",
              "      <td>Female</td>\n",
              "      <td>0</td>\n",
              "      <td>No</td>\n",
              "      <td>No</td>\n",
              "      <td>2</td>\n",
              "      <td>Yes</td>\n",
              "      <td>No</td>\n",
              "      <td>Fiber optic</td>\n",
              "      <td>No</td>\n",
              "      <td>No</td>\n",
              "      <td>No</td>\n",
              "      <td>No</td>\n",
              "      <td>No</td>\n",
              "      <td>No</td>\n",
              "      <td>Month-to-month</td>\n",
              "      <td>Yes</td>\n",
              "      <td>Electronic check</td>\n",
              "      <td>$70.7/m</td>\n",
              "      <td>$151.65</td>\n",
              "      <td>Yes</td>\n",
              "    </tr>\n",
              "    <tr>\n",
              "      <th>...</th>\n",
              "      <td>...</td>\n",
              "      <td>...</td>\n",
              "      <td>...</td>\n",
              "      <td>...</td>\n",
              "      <td>...</td>\n",
              "      <td>...</td>\n",
              "      <td>...</td>\n",
              "      <td>...</td>\n",
              "      <td>...</td>\n",
              "      <td>...</td>\n",
              "      <td>...</td>\n",
              "      <td>...</td>\n",
              "      <td>...</td>\n",
              "      <td>...</td>\n",
              "      <td>...</td>\n",
              "      <td>...</td>\n",
              "      <td>...</td>\n",
              "      <td>...</td>\n",
              "      <td>...</td>\n",
              "      <td>...</td>\n",
              "      <td>...</td>\n",
              "    </tr>\n",
              "    <tr>\n",
              "      <th>7038</th>\n",
              "      <td>6840-RESVB</td>\n",
              "      <td>Male</td>\n",
              "      <td>0</td>\n",
              "      <td>Yes</td>\n",
              "      <td>Yes</td>\n",
              "      <td>24</td>\n",
              "      <td>Yes</td>\n",
              "      <td>Yes</td>\n",
              "      <td>DSL</td>\n",
              "      <td>Yes</td>\n",
              "      <td>No</td>\n",
              "      <td>Yes</td>\n",
              "      <td>Yes</td>\n",
              "      <td>Yes</td>\n",
              "      <td>Yes</td>\n",
              "      <td>One year</td>\n",
              "      <td>Yes</td>\n",
              "      <td>Mailed check</td>\n",
              "      <td>$84.8/m</td>\n",
              "      <td>$1990.5</td>\n",
              "      <td>No</td>\n",
              "    </tr>\n",
              "    <tr>\n",
              "      <th>7039</th>\n",
              "      <td>2234-XADUH</td>\n",
              "      <td>Female</td>\n",
              "      <td>0</td>\n",
              "      <td>Yes</td>\n",
              "      <td>Yes</td>\n",
              "      <td>72</td>\n",
              "      <td>Yes</td>\n",
              "      <td>Yes</td>\n",
              "      <td>Fiber optic</td>\n",
              "      <td>No</td>\n",
              "      <td>Yes</td>\n",
              "      <td>Yes</td>\n",
              "      <td>No</td>\n",
              "      <td>Yes</td>\n",
              "      <td>Yes</td>\n",
              "      <td>One year</td>\n",
              "      <td>Yes</td>\n",
              "      <td>Credit card (automatic)</td>\n",
              "      <td>$103.2/m</td>\n",
              "      <td>$7362.9</td>\n",
              "      <td>No</td>\n",
              "    </tr>\n",
              "    <tr>\n",
              "      <th>7040</th>\n",
              "      <td>4801-JZAZL</td>\n",
              "      <td>Female</td>\n",
              "      <td>0</td>\n",
              "      <td>Yes</td>\n",
              "      <td>Yes</td>\n",
              "      <td>11</td>\n",
              "      <td>No</td>\n",
              "      <td>No phone service</td>\n",
              "      <td>DSL</td>\n",
              "      <td>Yes</td>\n",
              "      <td>No</td>\n",
              "      <td>No</td>\n",
              "      <td>No</td>\n",
              "      <td>No</td>\n",
              "      <td>No</td>\n",
              "      <td>Month-to-month</td>\n",
              "      <td>Yes</td>\n",
              "      <td>Electronic check</td>\n",
              "      <td>$29.6/m</td>\n",
              "      <td>$346.45</td>\n",
              "      <td>No</td>\n",
              "    </tr>\n",
              "    <tr>\n",
              "      <th>7041</th>\n",
              "      <td>8361-LTMKD</td>\n",
              "      <td>Male</td>\n",
              "      <td>1</td>\n",
              "      <td>Yes</td>\n",
              "      <td>No</td>\n",
              "      <td>4</td>\n",
              "      <td>Yes</td>\n",
              "      <td>Yes</td>\n",
              "      <td>Fiber optic</td>\n",
              "      <td>No</td>\n",
              "      <td>No</td>\n",
              "      <td>No</td>\n",
              "      <td>No</td>\n",
              "      <td>No</td>\n",
              "      <td>No</td>\n",
              "      <td>Month-to-month</td>\n",
              "      <td>Yes</td>\n",
              "      <td>Mailed check</td>\n",
              "      <td>$74.4/m</td>\n",
              "      <td>$306.6</td>\n",
              "      <td>Yes</td>\n",
              "    </tr>\n",
              "    <tr>\n",
              "      <th>7042</th>\n",
              "      <td>3186-AJIEK</td>\n",
              "      <td>Male</td>\n",
              "      <td>0</td>\n",
              "      <td>No</td>\n",
              "      <td>No</td>\n",
              "      <td>66</td>\n",
              "      <td>Yes</td>\n",
              "      <td>No</td>\n",
              "      <td>Fiber optic</td>\n",
              "      <td>Yes</td>\n",
              "      <td>No</td>\n",
              "      <td>Yes</td>\n",
              "      <td>Yes</td>\n",
              "      <td>Yes</td>\n",
              "      <td>Yes</td>\n",
              "      <td>Two year</td>\n",
              "      <td>Yes</td>\n",
              "      <td>Bank transfer (automatic)</td>\n",
              "      <td>$105.65/m</td>\n",
              "      <td>$6844.5</td>\n",
              "      <td>No</td>\n",
              "    </tr>\n",
              "  </tbody>\n",
              "</table>\n",
              "<p>7043 rows × 21 columns</p>\n",
              "</div>"
            ],
            "text/plain": [
              "      customerID  gender  SeniorCitizen  ... MonthlyCharges TotalCharges  Churn\n",
              "0     7590-VHVEG  Female              0  ...       $29.85/m       $29.85     No\n",
              "1     5575-GNVDE    Male              0  ...       $56.95/m      $1889.5     No\n",
              "2     3668-QPYBK    Male              0  ...       $53.85/m      $108.15    Yes\n",
              "3     7795-CFOCW    Male              0  ...        $42.3/m     $1840.75     No\n",
              "4     9237-HQITU  Female              0  ...        $70.7/m      $151.65    Yes\n",
              "...          ...     ...            ...  ...            ...          ...    ...\n",
              "7038  6840-RESVB    Male              0  ...        $84.8/m      $1990.5     No\n",
              "7039  2234-XADUH  Female              0  ...       $103.2/m      $7362.9     No\n",
              "7040  4801-JZAZL  Female              0  ...        $29.6/m      $346.45     No\n",
              "7041  8361-LTMKD    Male              1  ...        $74.4/m       $306.6    Yes\n",
              "7042  3186-AJIEK    Male              0  ...      $105.65/m      $6844.5     No\n",
              "\n",
              "[7043 rows x 21 columns]"
            ]
          },
          "metadata": {
            "tags": []
          },
          "execution_count": 26
        }
      ]
    },
    {
      "cell_type": "code",
      "metadata": {
        "id": "LiOT7yMpcUic"
      },
      "source": [
        "# remove dollar sign\r\n",
        "df['TotalCharges'] = df['TotalCharges'].str.replace('$','')\r\n",
        "df['TotalCharges'] = df['TotalCharges'].str.replace(' ','')\r\n",
        "df['TotalCharges'] = pd.to_numeric(df['TotalCharges'])\r\n",
        "df['TotalCharges']=df['TotalCharges'].astype('float')"
      ],
      "execution_count": 27,
      "outputs": []
    },
    {
      "cell_type": "code",
      "metadata": {
        "id": "o5Rm9MjLb7-U"
      },
      "source": [
        "# remove dollar sign and /m\r\n",
        "df['MonthlyCharges'] = df['MonthlyCharges'].str.replace('$','')\r\n",
        "df['MonthlyCharges'] = df['MonthlyCharges'].str.replace('/m','')"
      ],
      "execution_count": 28,
      "outputs": []
    },
    {
      "cell_type": "code",
      "metadata": {
        "id": "G9_6EH7wQryo"
      },
      "source": [
        "# changing monthlycharges to float\r\n",
        "df['MonthlyCharges']=df['MonthlyCharges'].astype('float')"
      ],
      "execution_count": 29,
      "outputs": []
    },
    {
      "cell_type": "code",
      "metadata": {
        "id": "lwcHFBNwnhq7",
        "colab": {
          "base_uri": "https://localhost:8080/",
          "height": 574
        },
        "outputId": "ecfe40cc-e44e-437c-df5c-c707b53297b5"
      },
      "source": [
        "# change gender to numeric\r\n",
        "df[\"gender\"] = df['gender'].replace(['Female'],0)\r\n",
        "df[\"gender\"] = df['gender'].replace(['Male'],1)\r\n",
        "# change partner to numeric\r\n",
        "df[\"Partner\"] = df['Partner'].replace(['No'],0)\r\n",
        "df[\"Partner\"] = df['Partner'].replace(['Yes'],1)\r\n",
        "# change dependents to numeric\r\n",
        "df[\"Dependents\"] = df['Dependents'].replace(['No'],0)\r\n",
        "df[\"Dependents\"] = df['Dependents'].replace(['Yes'],1)\r\n",
        "# change PhoneService to numeric\r\n",
        "df[\"PhoneService\"] = df['PhoneService'].replace(['No'],0)\r\n",
        "df[\"PhoneService\"] = df['PhoneService'].replace(['Yes'],1)\r\n",
        "# change InternetService to numeric\r\n",
        "df[\"InternetService\"] = df['InternetService'].replace(['DSL'],0)\r\n",
        "df[\"InternetService\"] = df['InternetService'].replace(['Fiber optic'],1)\r\n",
        "# change OnlineSecurity to numeric\r\n",
        "df[\"OnlineSecurity\"] = df['OnlineSecurity'].replace(['No'],0)\r\n",
        "df[\"OnlineSecurity\"] = df['OnlineSecurity'].replace(['Yes'],1)\r\n",
        "# change OnlineBackup to numeric\r\n",
        "df[\"OnlineBackup\"] = df['OnlineBackup'].replace(['No'],0)\r\n",
        "df[\"OnlineBackup\"] = df['OnlineBackup'].replace(['Yes'],1)\r\n",
        "# change DeviceProtection to numeric\r\n",
        "df[\"DeviceProtection\"] = df['DeviceProtection'].replace(['No'],0)\r\n",
        "df[\"DeviceProtection\"] = df['DeviceProtection'].replace(['Yes'],1)\r\n",
        "# change TechSupport to numeric\r\n",
        "df[\"TechSupport\"] = df['TechSupport'].replace(['No'],0)\r\n",
        "df[\"TechSupport\"] = df['TechSupport'].replace(['Yes'],1)\r\n",
        "# change StreamingTV to numeric\r\n",
        "df[\"StreamingTV\"] = df['StreamingTV'].replace(['No'],0)\r\n",
        "df[\"StreamingTV\"] = df['StreamingTV'].replace(['Yes'],1)\r\n",
        "# change StreamingMovies to numeric\r\n",
        "df[\"StreamingMovies\"] = df['StreamingMovies'].replace(['No'],0)\r\n",
        "df[\"StreamingMovies\"] = df['StreamingMovies'].replace(['Yes'],1)\r\n",
        "# change Contract to numeric\r\n",
        "df[\"Contract\"] = df['Contract'].replace(['Month-to-month'],0)\r\n",
        "df[\"Contract\"] = df['Contract'].replace(['One year'],1)\r\n",
        "df[\"Contract\"] = df['Contract'].replace(['Two year'],2)\r\n",
        "# change PaperlessBilling to numeric\r\n",
        "df[\"PaperlessBilling\"] = df['PaperlessBilling'].replace(['No'],0)\r\n",
        "df[\"PaperlessBilling\"] = df['PaperlessBilling'].replace(['Yes'],1)\r\n",
        "# change Churn to numeric\r\n",
        "df[\"Churn\"] = df['Churn'].replace(['No'],0)\r\n",
        "df[\"Churn\"] = df['Churn'].replace(['Yes'],1)\r\n",
        "# change PaymentMethod to numeric\r\n",
        "df[\"PaymentMethod\"] = df['PaymentMethod'].replace(['Electronic check'],0)\r\n",
        "df[\"PaymentMethod\"] = df['PaymentMethod'].replace(['Mailed check'],1)\r\n",
        "df[\"PaymentMethod\"] = df['PaymentMethod'].replace(['Bank transfer (automatic)'],2)\r\n",
        "df[\"PaymentMethod\"] = df['PaymentMethod'].replace(['Credit card (automatic)'] ,3)\r\n",
        "# change MultipleLines to numeric\r\n",
        "df[\"MultipleLines\"] = df['MultipleLines'].replace(['Yes'],0)\r\n",
        "df[\"MultipleLines\"] = df['MultipleLines'].replace(['No'],1)\r\n",
        "df[\"MultipleLines\"] = df['MultipleLines'].replace(['No phone service'],2)\r\n",
        "df"
      ],
      "execution_count": 30,
      "outputs": [
        {
          "output_type": "execute_result",
          "data": {
            "text/html": [
              "<div>\n",
              "<style scoped>\n",
              "    .dataframe tbody tr th:only-of-type {\n",
              "        vertical-align: middle;\n",
              "    }\n",
              "\n",
              "    .dataframe tbody tr th {\n",
              "        vertical-align: top;\n",
              "    }\n",
              "\n",
              "    .dataframe thead th {\n",
              "        text-align: right;\n",
              "    }\n",
              "</style>\n",
              "<table border=\"1\" class=\"dataframe\">\n",
              "  <thead>\n",
              "    <tr style=\"text-align: right;\">\n",
              "      <th></th>\n",
              "      <th>customerID</th>\n",
              "      <th>gender</th>\n",
              "      <th>SeniorCitizen</th>\n",
              "      <th>Partner</th>\n",
              "      <th>Dependents</th>\n",
              "      <th>tenure</th>\n",
              "      <th>PhoneService</th>\n",
              "      <th>MultipleLines</th>\n",
              "      <th>InternetService</th>\n",
              "      <th>OnlineSecurity</th>\n",
              "      <th>OnlineBackup</th>\n",
              "      <th>DeviceProtection</th>\n",
              "      <th>TechSupport</th>\n",
              "      <th>StreamingTV</th>\n",
              "      <th>StreamingMovies</th>\n",
              "      <th>Contract</th>\n",
              "      <th>PaperlessBilling</th>\n",
              "      <th>PaymentMethod</th>\n",
              "      <th>MonthlyCharges</th>\n",
              "      <th>TotalCharges</th>\n",
              "      <th>Churn</th>\n",
              "    </tr>\n",
              "  </thead>\n",
              "  <tbody>\n",
              "    <tr>\n",
              "      <th>0</th>\n",
              "      <td>7590-VHVEG</td>\n",
              "      <td>0</td>\n",
              "      <td>0</td>\n",
              "      <td>1</td>\n",
              "      <td>0</td>\n",
              "      <td>1</td>\n",
              "      <td>0</td>\n",
              "      <td>2</td>\n",
              "      <td>0</td>\n",
              "      <td>0</td>\n",
              "      <td>1</td>\n",
              "      <td>0</td>\n",
              "      <td>0</td>\n",
              "      <td>0</td>\n",
              "      <td>0</td>\n",
              "      <td>0</td>\n",
              "      <td>1</td>\n",
              "      <td>0</td>\n",
              "      <td>29.85</td>\n",
              "      <td>29.85</td>\n",
              "      <td>0</td>\n",
              "    </tr>\n",
              "    <tr>\n",
              "      <th>1</th>\n",
              "      <td>5575-GNVDE</td>\n",
              "      <td>1</td>\n",
              "      <td>0</td>\n",
              "      <td>0</td>\n",
              "      <td>0</td>\n",
              "      <td>34</td>\n",
              "      <td>1</td>\n",
              "      <td>1</td>\n",
              "      <td>0</td>\n",
              "      <td>1</td>\n",
              "      <td>0</td>\n",
              "      <td>1</td>\n",
              "      <td>0</td>\n",
              "      <td>0</td>\n",
              "      <td>0</td>\n",
              "      <td>1</td>\n",
              "      <td>0</td>\n",
              "      <td>1</td>\n",
              "      <td>56.95</td>\n",
              "      <td>1889.50</td>\n",
              "      <td>0</td>\n",
              "    </tr>\n",
              "    <tr>\n",
              "      <th>2</th>\n",
              "      <td>3668-QPYBK</td>\n",
              "      <td>1</td>\n",
              "      <td>0</td>\n",
              "      <td>0</td>\n",
              "      <td>0</td>\n",
              "      <td>2</td>\n",
              "      <td>1</td>\n",
              "      <td>1</td>\n",
              "      <td>0</td>\n",
              "      <td>1</td>\n",
              "      <td>1</td>\n",
              "      <td>0</td>\n",
              "      <td>0</td>\n",
              "      <td>0</td>\n",
              "      <td>0</td>\n",
              "      <td>0</td>\n",
              "      <td>1</td>\n",
              "      <td>1</td>\n",
              "      <td>53.85</td>\n",
              "      <td>108.15</td>\n",
              "      <td>1</td>\n",
              "    </tr>\n",
              "    <tr>\n",
              "      <th>3</th>\n",
              "      <td>7795-CFOCW</td>\n",
              "      <td>1</td>\n",
              "      <td>0</td>\n",
              "      <td>0</td>\n",
              "      <td>0</td>\n",
              "      <td>45</td>\n",
              "      <td>0</td>\n",
              "      <td>2</td>\n",
              "      <td>0</td>\n",
              "      <td>1</td>\n",
              "      <td>0</td>\n",
              "      <td>1</td>\n",
              "      <td>1</td>\n",
              "      <td>0</td>\n",
              "      <td>0</td>\n",
              "      <td>1</td>\n",
              "      <td>0</td>\n",
              "      <td>2</td>\n",
              "      <td>42.30</td>\n",
              "      <td>1840.75</td>\n",
              "      <td>0</td>\n",
              "    </tr>\n",
              "    <tr>\n",
              "      <th>4</th>\n",
              "      <td>9237-HQITU</td>\n",
              "      <td>0</td>\n",
              "      <td>0</td>\n",
              "      <td>0</td>\n",
              "      <td>0</td>\n",
              "      <td>2</td>\n",
              "      <td>1</td>\n",
              "      <td>1</td>\n",
              "      <td>1</td>\n",
              "      <td>0</td>\n",
              "      <td>0</td>\n",
              "      <td>0</td>\n",
              "      <td>0</td>\n",
              "      <td>0</td>\n",
              "      <td>0</td>\n",
              "      <td>0</td>\n",
              "      <td>1</td>\n",
              "      <td>0</td>\n",
              "      <td>70.70</td>\n",
              "      <td>151.65</td>\n",
              "      <td>1</td>\n",
              "    </tr>\n",
              "    <tr>\n",
              "      <th>...</th>\n",
              "      <td>...</td>\n",
              "      <td>...</td>\n",
              "      <td>...</td>\n",
              "      <td>...</td>\n",
              "      <td>...</td>\n",
              "      <td>...</td>\n",
              "      <td>...</td>\n",
              "      <td>...</td>\n",
              "      <td>...</td>\n",
              "      <td>...</td>\n",
              "      <td>...</td>\n",
              "      <td>...</td>\n",
              "      <td>...</td>\n",
              "      <td>...</td>\n",
              "      <td>...</td>\n",
              "      <td>...</td>\n",
              "      <td>...</td>\n",
              "      <td>...</td>\n",
              "      <td>...</td>\n",
              "      <td>...</td>\n",
              "      <td>...</td>\n",
              "    </tr>\n",
              "    <tr>\n",
              "      <th>7038</th>\n",
              "      <td>6840-RESVB</td>\n",
              "      <td>1</td>\n",
              "      <td>0</td>\n",
              "      <td>1</td>\n",
              "      <td>1</td>\n",
              "      <td>24</td>\n",
              "      <td>1</td>\n",
              "      <td>0</td>\n",
              "      <td>0</td>\n",
              "      <td>1</td>\n",
              "      <td>0</td>\n",
              "      <td>1</td>\n",
              "      <td>1</td>\n",
              "      <td>1</td>\n",
              "      <td>1</td>\n",
              "      <td>1</td>\n",
              "      <td>1</td>\n",
              "      <td>1</td>\n",
              "      <td>84.80</td>\n",
              "      <td>1990.50</td>\n",
              "      <td>0</td>\n",
              "    </tr>\n",
              "    <tr>\n",
              "      <th>7039</th>\n",
              "      <td>2234-XADUH</td>\n",
              "      <td>0</td>\n",
              "      <td>0</td>\n",
              "      <td>1</td>\n",
              "      <td>1</td>\n",
              "      <td>72</td>\n",
              "      <td>1</td>\n",
              "      <td>0</td>\n",
              "      <td>1</td>\n",
              "      <td>0</td>\n",
              "      <td>1</td>\n",
              "      <td>1</td>\n",
              "      <td>0</td>\n",
              "      <td>1</td>\n",
              "      <td>1</td>\n",
              "      <td>1</td>\n",
              "      <td>1</td>\n",
              "      <td>3</td>\n",
              "      <td>103.20</td>\n",
              "      <td>7362.90</td>\n",
              "      <td>0</td>\n",
              "    </tr>\n",
              "    <tr>\n",
              "      <th>7040</th>\n",
              "      <td>4801-JZAZL</td>\n",
              "      <td>0</td>\n",
              "      <td>0</td>\n",
              "      <td>1</td>\n",
              "      <td>1</td>\n",
              "      <td>11</td>\n",
              "      <td>0</td>\n",
              "      <td>2</td>\n",
              "      <td>0</td>\n",
              "      <td>1</td>\n",
              "      <td>0</td>\n",
              "      <td>0</td>\n",
              "      <td>0</td>\n",
              "      <td>0</td>\n",
              "      <td>0</td>\n",
              "      <td>0</td>\n",
              "      <td>1</td>\n",
              "      <td>0</td>\n",
              "      <td>29.60</td>\n",
              "      <td>346.45</td>\n",
              "      <td>0</td>\n",
              "    </tr>\n",
              "    <tr>\n",
              "      <th>7041</th>\n",
              "      <td>8361-LTMKD</td>\n",
              "      <td>1</td>\n",
              "      <td>1</td>\n",
              "      <td>1</td>\n",
              "      <td>0</td>\n",
              "      <td>4</td>\n",
              "      <td>1</td>\n",
              "      <td>0</td>\n",
              "      <td>1</td>\n",
              "      <td>0</td>\n",
              "      <td>0</td>\n",
              "      <td>0</td>\n",
              "      <td>0</td>\n",
              "      <td>0</td>\n",
              "      <td>0</td>\n",
              "      <td>0</td>\n",
              "      <td>1</td>\n",
              "      <td>1</td>\n",
              "      <td>74.40</td>\n",
              "      <td>306.60</td>\n",
              "      <td>1</td>\n",
              "    </tr>\n",
              "    <tr>\n",
              "      <th>7042</th>\n",
              "      <td>3186-AJIEK</td>\n",
              "      <td>1</td>\n",
              "      <td>0</td>\n",
              "      <td>0</td>\n",
              "      <td>0</td>\n",
              "      <td>66</td>\n",
              "      <td>1</td>\n",
              "      <td>1</td>\n",
              "      <td>1</td>\n",
              "      <td>1</td>\n",
              "      <td>0</td>\n",
              "      <td>1</td>\n",
              "      <td>1</td>\n",
              "      <td>1</td>\n",
              "      <td>1</td>\n",
              "      <td>2</td>\n",
              "      <td>1</td>\n",
              "      <td>2</td>\n",
              "      <td>105.65</td>\n",
              "      <td>6844.50</td>\n",
              "      <td>0</td>\n",
              "    </tr>\n",
              "  </tbody>\n",
              "</table>\n",
              "<p>7043 rows × 21 columns</p>\n",
              "</div>"
            ],
            "text/plain": [
              "      customerID  gender  SeniorCitizen  ...  MonthlyCharges  TotalCharges  Churn\n",
              "0     7590-VHVEG       0              0  ...           29.85         29.85      0\n",
              "1     5575-GNVDE       1              0  ...           56.95       1889.50      0\n",
              "2     3668-QPYBK       1              0  ...           53.85        108.15      1\n",
              "3     7795-CFOCW       1              0  ...           42.30       1840.75      0\n",
              "4     9237-HQITU       0              0  ...           70.70        151.65      1\n",
              "...          ...     ...            ...  ...             ...           ...    ...\n",
              "7038  6840-RESVB       1              0  ...           84.80       1990.50      0\n",
              "7039  2234-XADUH       0              0  ...          103.20       7362.90      0\n",
              "7040  4801-JZAZL       0              0  ...           29.60        346.45      0\n",
              "7041  8361-LTMKD       1              1  ...           74.40        306.60      1\n",
              "7042  3186-AJIEK       1              0  ...          105.65       6844.50      0\n",
              "\n",
              "[7043 rows x 21 columns]"
            ]
          },
          "metadata": {
            "tags": []
          },
          "execution_count": 30
        }
      ]
    },
    {
      "cell_type": "code",
      "metadata": {
        "id": "fXKSwBoX96Sn"
      },
      "source": [
        "# removing null values from total charges\r\n",
        "df['tenure']=df['tenure'].astype('float')\r\n",
        "df['TotalCharges']=df['TotalCharges'].astype('object')\r\n",
        "nullV=df[df['TotalCharges'].isnull()].index\r\n",
        "counter1=0\r\n",
        "for x in nullV:\r\n",
        " Total_Charges=df.iloc[nullV[counter1]]['TotalCharges']\r\n",
        " tenure=df.iloc[nullV[counter1]]['tenure']\r\n",
        " MonthlyCharges=df.iloc[nullV[counter1]]['MonthlyCharges']\r\n",
        " Total_Charges=tenure*MonthlyCharges\r\n",
        " df.at[nullV[counter1],'TotalCharges']= Total_Charges\r\n",
        " counter1+=1 \r\n",
        " "
      ],
      "execution_count": 31,
      "outputs": []
    },
    {
      "cell_type": "code",
      "metadata": {
        "id": "JipBatxP97dc"
      },
      "source": [
        "# remove null values from Customer ID\r\n",
        "df.dropna(subset=['customerID'], inplace=True)"
      ],
      "execution_count": 32,
      "outputs": []
    },
    {
      "cell_type": "code",
      "metadata": {
        "colab": {
          "base_uri": "https://localhost:8080/"
        },
        "id": "rAn_GiAvIrtY",
        "outputId": "0b1ee606-4033-46e4-e756-e7702703adea"
      },
      "source": [
        "df.isnull().any()"
      ],
      "execution_count": 33,
      "outputs": [
        {
          "output_type": "execute_result",
          "data": {
            "text/plain": [
              "customerID          False\n",
              "gender              False\n",
              "SeniorCitizen       False\n",
              "Partner             False\n",
              "Dependents          False\n",
              "tenure              False\n",
              "PhoneService        False\n",
              "MultipleLines       False\n",
              "InternetService     False\n",
              "OnlineSecurity      False\n",
              "OnlineBackup        False\n",
              "DeviceProtection    False\n",
              "TechSupport         False\n",
              "StreamingTV         False\n",
              "StreamingMovies     False\n",
              "Contract            False\n",
              "PaperlessBilling    False\n",
              "PaymentMethod       False\n",
              "MonthlyCharges      False\n",
              "TotalCharges        False\n",
              "Churn               False\n",
              "dtype: bool"
            ]
          },
          "metadata": {
            "tags": []
          },
          "execution_count": 33
        }
      ]
    },
    {
      "cell_type": "code",
      "metadata": {
        "colab": {
          "base_uri": "https://localhost:8080/",
          "height": 574
        },
        "id": "L33clqCETLa5",
        "outputId": "28e33bbf-df39-40f8-9893-e8481555a491"
      },
      "source": [
        "df"
      ],
      "execution_count": 34,
      "outputs": [
        {
          "output_type": "execute_result",
          "data": {
            "text/html": [
              "<div>\n",
              "<style scoped>\n",
              "    .dataframe tbody tr th:only-of-type {\n",
              "        vertical-align: middle;\n",
              "    }\n",
              "\n",
              "    .dataframe tbody tr th {\n",
              "        vertical-align: top;\n",
              "    }\n",
              "\n",
              "    .dataframe thead th {\n",
              "        text-align: right;\n",
              "    }\n",
              "</style>\n",
              "<table border=\"1\" class=\"dataframe\">\n",
              "  <thead>\n",
              "    <tr style=\"text-align: right;\">\n",
              "      <th></th>\n",
              "      <th>customerID</th>\n",
              "      <th>gender</th>\n",
              "      <th>SeniorCitizen</th>\n",
              "      <th>Partner</th>\n",
              "      <th>Dependents</th>\n",
              "      <th>tenure</th>\n",
              "      <th>PhoneService</th>\n",
              "      <th>MultipleLines</th>\n",
              "      <th>InternetService</th>\n",
              "      <th>OnlineSecurity</th>\n",
              "      <th>OnlineBackup</th>\n",
              "      <th>DeviceProtection</th>\n",
              "      <th>TechSupport</th>\n",
              "      <th>StreamingTV</th>\n",
              "      <th>StreamingMovies</th>\n",
              "      <th>Contract</th>\n",
              "      <th>PaperlessBilling</th>\n",
              "      <th>PaymentMethod</th>\n",
              "      <th>MonthlyCharges</th>\n",
              "      <th>TotalCharges</th>\n",
              "      <th>Churn</th>\n",
              "    </tr>\n",
              "  </thead>\n",
              "  <tbody>\n",
              "    <tr>\n",
              "      <th>0</th>\n",
              "      <td>7590-VHVEG</td>\n",
              "      <td>0</td>\n",
              "      <td>0</td>\n",
              "      <td>1</td>\n",
              "      <td>0</td>\n",
              "      <td>1.0</td>\n",
              "      <td>0</td>\n",
              "      <td>2</td>\n",
              "      <td>0</td>\n",
              "      <td>0</td>\n",
              "      <td>1</td>\n",
              "      <td>0</td>\n",
              "      <td>0</td>\n",
              "      <td>0</td>\n",
              "      <td>0</td>\n",
              "      <td>0</td>\n",
              "      <td>1</td>\n",
              "      <td>0</td>\n",
              "      <td>29.85</td>\n",
              "      <td>29.85</td>\n",
              "      <td>0</td>\n",
              "    </tr>\n",
              "    <tr>\n",
              "      <th>1</th>\n",
              "      <td>5575-GNVDE</td>\n",
              "      <td>1</td>\n",
              "      <td>0</td>\n",
              "      <td>0</td>\n",
              "      <td>0</td>\n",
              "      <td>34.0</td>\n",
              "      <td>1</td>\n",
              "      <td>1</td>\n",
              "      <td>0</td>\n",
              "      <td>1</td>\n",
              "      <td>0</td>\n",
              "      <td>1</td>\n",
              "      <td>0</td>\n",
              "      <td>0</td>\n",
              "      <td>0</td>\n",
              "      <td>1</td>\n",
              "      <td>0</td>\n",
              "      <td>1</td>\n",
              "      <td>56.95</td>\n",
              "      <td>1889.5</td>\n",
              "      <td>0</td>\n",
              "    </tr>\n",
              "    <tr>\n",
              "      <th>2</th>\n",
              "      <td>3668-QPYBK</td>\n",
              "      <td>1</td>\n",
              "      <td>0</td>\n",
              "      <td>0</td>\n",
              "      <td>0</td>\n",
              "      <td>2.0</td>\n",
              "      <td>1</td>\n",
              "      <td>1</td>\n",
              "      <td>0</td>\n",
              "      <td>1</td>\n",
              "      <td>1</td>\n",
              "      <td>0</td>\n",
              "      <td>0</td>\n",
              "      <td>0</td>\n",
              "      <td>0</td>\n",
              "      <td>0</td>\n",
              "      <td>1</td>\n",
              "      <td>1</td>\n",
              "      <td>53.85</td>\n",
              "      <td>108.15</td>\n",
              "      <td>1</td>\n",
              "    </tr>\n",
              "    <tr>\n",
              "      <th>3</th>\n",
              "      <td>7795-CFOCW</td>\n",
              "      <td>1</td>\n",
              "      <td>0</td>\n",
              "      <td>0</td>\n",
              "      <td>0</td>\n",
              "      <td>45.0</td>\n",
              "      <td>0</td>\n",
              "      <td>2</td>\n",
              "      <td>0</td>\n",
              "      <td>1</td>\n",
              "      <td>0</td>\n",
              "      <td>1</td>\n",
              "      <td>1</td>\n",
              "      <td>0</td>\n",
              "      <td>0</td>\n",
              "      <td>1</td>\n",
              "      <td>0</td>\n",
              "      <td>2</td>\n",
              "      <td>42.30</td>\n",
              "      <td>1840.75</td>\n",
              "      <td>0</td>\n",
              "    </tr>\n",
              "    <tr>\n",
              "      <th>4</th>\n",
              "      <td>9237-HQITU</td>\n",
              "      <td>0</td>\n",
              "      <td>0</td>\n",
              "      <td>0</td>\n",
              "      <td>0</td>\n",
              "      <td>2.0</td>\n",
              "      <td>1</td>\n",
              "      <td>1</td>\n",
              "      <td>1</td>\n",
              "      <td>0</td>\n",
              "      <td>0</td>\n",
              "      <td>0</td>\n",
              "      <td>0</td>\n",
              "      <td>0</td>\n",
              "      <td>0</td>\n",
              "      <td>0</td>\n",
              "      <td>1</td>\n",
              "      <td>0</td>\n",
              "      <td>70.70</td>\n",
              "      <td>151.65</td>\n",
              "      <td>1</td>\n",
              "    </tr>\n",
              "    <tr>\n",
              "      <th>...</th>\n",
              "      <td>...</td>\n",
              "      <td>...</td>\n",
              "      <td>...</td>\n",
              "      <td>...</td>\n",
              "      <td>...</td>\n",
              "      <td>...</td>\n",
              "      <td>...</td>\n",
              "      <td>...</td>\n",
              "      <td>...</td>\n",
              "      <td>...</td>\n",
              "      <td>...</td>\n",
              "      <td>...</td>\n",
              "      <td>...</td>\n",
              "      <td>...</td>\n",
              "      <td>...</td>\n",
              "      <td>...</td>\n",
              "      <td>...</td>\n",
              "      <td>...</td>\n",
              "      <td>...</td>\n",
              "      <td>...</td>\n",
              "      <td>...</td>\n",
              "    </tr>\n",
              "    <tr>\n",
              "      <th>7038</th>\n",
              "      <td>6840-RESVB</td>\n",
              "      <td>1</td>\n",
              "      <td>0</td>\n",
              "      <td>1</td>\n",
              "      <td>1</td>\n",
              "      <td>24.0</td>\n",
              "      <td>1</td>\n",
              "      <td>0</td>\n",
              "      <td>0</td>\n",
              "      <td>1</td>\n",
              "      <td>0</td>\n",
              "      <td>1</td>\n",
              "      <td>1</td>\n",
              "      <td>1</td>\n",
              "      <td>1</td>\n",
              "      <td>1</td>\n",
              "      <td>1</td>\n",
              "      <td>1</td>\n",
              "      <td>84.80</td>\n",
              "      <td>1990.5</td>\n",
              "      <td>0</td>\n",
              "    </tr>\n",
              "    <tr>\n",
              "      <th>7039</th>\n",
              "      <td>2234-XADUH</td>\n",
              "      <td>0</td>\n",
              "      <td>0</td>\n",
              "      <td>1</td>\n",
              "      <td>1</td>\n",
              "      <td>72.0</td>\n",
              "      <td>1</td>\n",
              "      <td>0</td>\n",
              "      <td>1</td>\n",
              "      <td>0</td>\n",
              "      <td>1</td>\n",
              "      <td>1</td>\n",
              "      <td>0</td>\n",
              "      <td>1</td>\n",
              "      <td>1</td>\n",
              "      <td>1</td>\n",
              "      <td>1</td>\n",
              "      <td>3</td>\n",
              "      <td>103.20</td>\n",
              "      <td>7362.9</td>\n",
              "      <td>0</td>\n",
              "    </tr>\n",
              "    <tr>\n",
              "      <th>7040</th>\n",
              "      <td>4801-JZAZL</td>\n",
              "      <td>0</td>\n",
              "      <td>0</td>\n",
              "      <td>1</td>\n",
              "      <td>1</td>\n",
              "      <td>11.0</td>\n",
              "      <td>0</td>\n",
              "      <td>2</td>\n",
              "      <td>0</td>\n",
              "      <td>1</td>\n",
              "      <td>0</td>\n",
              "      <td>0</td>\n",
              "      <td>0</td>\n",
              "      <td>0</td>\n",
              "      <td>0</td>\n",
              "      <td>0</td>\n",
              "      <td>1</td>\n",
              "      <td>0</td>\n",
              "      <td>29.60</td>\n",
              "      <td>346.45</td>\n",
              "      <td>0</td>\n",
              "    </tr>\n",
              "    <tr>\n",
              "      <th>7041</th>\n",
              "      <td>8361-LTMKD</td>\n",
              "      <td>1</td>\n",
              "      <td>1</td>\n",
              "      <td>1</td>\n",
              "      <td>0</td>\n",
              "      <td>4.0</td>\n",
              "      <td>1</td>\n",
              "      <td>0</td>\n",
              "      <td>1</td>\n",
              "      <td>0</td>\n",
              "      <td>0</td>\n",
              "      <td>0</td>\n",
              "      <td>0</td>\n",
              "      <td>0</td>\n",
              "      <td>0</td>\n",
              "      <td>0</td>\n",
              "      <td>1</td>\n",
              "      <td>1</td>\n",
              "      <td>74.40</td>\n",
              "      <td>306.6</td>\n",
              "      <td>1</td>\n",
              "    </tr>\n",
              "    <tr>\n",
              "      <th>7042</th>\n",
              "      <td>3186-AJIEK</td>\n",
              "      <td>1</td>\n",
              "      <td>0</td>\n",
              "      <td>0</td>\n",
              "      <td>0</td>\n",
              "      <td>66.0</td>\n",
              "      <td>1</td>\n",
              "      <td>1</td>\n",
              "      <td>1</td>\n",
              "      <td>1</td>\n",
              "      <td>0</td>\n",
              "      <td>1</td>\n",
              "      <td>1</td>\n",
              "      <td>1</td>\n",
              "      <td>1</td>\n",
              "      <td>2</td>\n",
              "      <td>1</td>\n",
              "      <td>2</td>\n",
              "      <td>105.65</td>\n",
              "      <td>6844.5</td>\n",
              "      <td>0</td>\n",
              "    </tr>\n",
              "  </tbody>\n",
              "</table>\n",
              "<p>6987 rows × 21 columns</p>\n",
              "</div>"
            ],
            "text/plain": [
              "      customerID  gender  SeniorCitizen  ...  MonthlyCharges  TotalCharges  Churn\n",
              "0     7590-VHVEG       0              0  ...           29.85         29.85      0\n",
              "1     5575-GNVDE       1              0  ...           56.95        1889.5      0\n",
              "2     3668-QPYBK       1              0  ...           53.85        108.15      1\n",
              "3     7795-CFOCW       1              0  ...           42.30       1840.75      0\n",
              "4     9237-HQITU       0              0  ...           70.70        151.65      1\n",
              "...          ...     ...            ...  ...             ...           ...    ...\n",
              "7038  6840-RESVB       1              0  ...           84.80        1990.5      0\n",
              "7039  2234-XADUH       0              0  ...          103.20        7362.9      0\n",
              "7040  4801-JZAZL       0              0  ...           29.60        346.45      0\n",
              "7041  8361-LTMKD       1              1  ...           74.40         306.6      1\n",
              "7042  3186-AJIEK       1              0  ...          105.65        6844.5      0\n",
              "\n",
              "[6987 rows x 21 columns]"
            ]
          },
          "metadata": {
            "tags": []
          },
          "execution_count": 34
        }
      ]
    },
    {
      "cell_type": "markdown",
      "metadata": {
        "id": "U0jDdOHS17k7"
      },
      "source": [
        ""
      ]
    },
    {
      "cell_type": "markdown",
      "metadata": {
        "id": "b-VlLllJVsyr"
      },
      "source": [
        "## Exploratory Data Analysis"
      ]
    },
    {
      "cell_type": "markdown",
      "metadata": {
        "id": "-epaJcKiVsyr"
      },
      "source": [
        "**Q0 (example): How long do churned customers stay with the company before leaving?**"
      ]
    },
    {
      "cell_type": "code",
      "metadata": {
        "id": "RCiecsEQqaYN"
      },
      "source": [
        ""
      ],
      "execution_count": 34,
      "outputs": []
    },
    {
      "cell_type": "code",
      "metadata": {
        "id": "ztZQp1nYVsys",
        "colab": {
          "base_uri": "https://localhost:8080/"
        },
        "outputId": "ed2a82ff-7aea-42ab-950a-4215c173c053"
      },
      "source": [
        "df.loc[df['Churn'] == 'Yes', 'tenure'].describe()"
      ],
      "execution_count": 35,
      "outputs": [
        {
          "output_type": "execute_result",
          "data": {
            "text/plain": [
              "count    0.0\n",
              "mean     NaN\n",
              "std      NaN\n",
              "min      NaN\n",
              "25%      NaN\n",
              "50%      NaN\n",
              "75%      NaN\n",
              "max      NaN\n",
              "Name: tenure, dtype: float64"
            ]
          },
          "metadata": {
            "tags": []
          },
          "execution_count": 35
        }
      ]
    },
    {
      "cell_type": "code",
      "metadata": {
        "id": "bq74bmirVsyt",
        "colab": {
          "base_uri": "https://localhost:8080/",
          "height": 351
        },
        "outputId": "5e51f86b-645a-46f2-a7cf-e33d59ce89d3"
      },
      "source": [
        "sns.histplot(x='tenure', data=df[df['Churn'] == 'Yes']);"
      ],
      "execution_count": 36,
      "outputs": [
        {
          "output_type": "display_data",
          "data": {
            "image/png": "[encoded data removed]",
            "text/plain": [
              "<Figure size 576x396 with 1 Axes>"
            ]
          },
          "metadata": {
            "tags": []
          }
        }
      ]
    },
    {
      "cell_type": "markdown",
      "metadata": {
        "id": "MZ8uu5XLVsyu"
      },
      "source": [
        "*Example Note: A histogram was chosen to show the distribution of tenure of churned customers. Alternatively, a violin plot or a box plot may also be used.*\n",
        "\n",
        "**Answer**: 75% of churned customers stayed with the company 2.5 years before leaving. 50% of churned customers left in just 10 months."
      ]
    },
    {
      "cell_type": "markdown",
      "metadata": {
        "id": "7C693LOnVsyu"
      },
      "source": [
        "**Q1: What are the most correlated attributes with customer churn?**"
      ]
    },
    {
      "cell_type": "code",
      "metadata": {
        "id": "DEDQtnPhVsyu",
        "colab": {
          "base_uri": "https://localhost:8080/",
          "height": 1000
        },
        "outputId": "189eacb3-1d48-4ad6-fc06-d7e8fd4d1ff0"
      },
      "source": [
        "df_le = df.copy()\r\n",
        "\r\n",
        "col = df_le.select_dtypes(include= [object, 'category']).columns\r\n",
        "df_le[col]= df_le[col].transform(lambda x: x.astype('category').cat.codes)\r\n",
        "\r\n",
        "df_le\r\n",
        "corr =df_le.corr()\r\n",
        "corr\r\n",
        "\r\n",
        "plt.figure(figsize=(15,15))\r\n",
        "sns.heatmap(corr, cmap='Reds', annot=True)\r\n",
        "\r\n",
        "# correlation_table=df.corr()\r\n",
        "\r\n",
        "corr=corr['Churn']\r\n",
        "\r\n",
        "corr=corr.sort_values(ascending=False,key=lambda x: x.abs())\r\n",
        "corr\r\n",
        "# most correlated attribute \r\n",
        "\r\n"
      ],
      "execution_count": 37,
      "outputs": [
        {
          "output_type": "execute_result",
          "data": {
            "text/plain": [
              "Churn               1.000000\n",
              "Contract           -0.396118\n",
              "tenure             -0.352041\n",
              "OnlineSecurity     -0.331890\n",
              "TechSupport        -0.329578\n",
              "OnlineBackup       -0.291608\n",
              "DeviceProtection   -0.281349\n",
              "PaymentMethod      -0.262684\n",
              "TotalCharges       -0.229254\n",
              "StreamingMovies    -0.205825\n",
              "StreamingTV        -0.204735\n",
              "MonthlyCharges      0.192997\n",
              "PaperlessBilling    0.192341\n",
              "Dependents         -0.163015\n",
              "SeniorCitizen       0.150239\n",
              "Partner            -0.148791\n",
              "InternetService    -0.047184\n",
              "MultipleLines      -0.035290\n",
              "customerID         -0.016183\n",
              "PhoneService        0.011601\n",
              "gender             -0.008384\n",
              "Name: Churn, dtype: float64"
            ]
          },
          "metadata": {
            "tags": []
          },
          "execution_count": 37
        },
        {
          "output_type": "display_data",
          "data": {
            "image/png": "[encoded data removed]",
            "text/plain": [
              "<Figure size 1080x1080 with 2 Axes>"
            ]
          },
          "metadata": {
            "tags": []
          }
        }
      ]
    },
    {
      "cell_type": "markdown",
      "metadata": {
        "id": "bRjGmkKRVsyu"
      },
      "source": [
        "**Q2: Are senior citizens more likely to churn than non-senior citizens?**"
      ]
    },
    {
      "cell_type": "code",
      "metadata": {
        "id": "cUf5RkFcVsyv",
        "colab": {
          "base_uri": "https://localhost:8080/",
          "height": 431
        },
        "outputId": "8df1db9c-2231-491e-b29a-786968d080cd"
      },
      "source": [
        "df['SeniorCitizen'] = df['SeniorCitizen'].astype('category').cat.codes\r\n",
        "order = df[['SeniorCitizen', 'Churn']].groupby('SeniorCitizen').mean().sort_values('SeniorCitizen').index\r\n",
        "order\r\n",
        "ax = sns.barplot(x='SeniorCitizen', y='Churn', data=df, order=order);\r\n",
        "print('--------------------------------------------------------------------------------')\r\n",
        "x=df[df['Churn']==1]\r\n",
        "count=x['Churn'].count()\r\n",
        "y=x.loc[df['SeniorCitizen'] == 1, 'Churn'].count()\r\n",
        "q=df.loc[df['SeniorCitizen'] == 1, 'Churn'].count()\r\n",
        "senior_citizens=y/q*100\r\n",
        "g=x.loc[df['SeniorCitizen'] == 0, 'Churn'].count()\r\n",
        "s=df.loc[df['SeniorCitizen'] == 0, 'Churn'].count()\r\n",
        "Non_senior_citizens=g/s*100\r\n",
        "print(\"senior citizens churning are at a rate of: \",senior_citizens,'%')\r\n",
        "print(\"non_senior citizens churning are are at a rate of: \",Non_senior_citizens,'%')\r\n",
        "print('senior citizens are more likely to churn')\r\n",
        "# non-senio r citizens are more likely to churn"
      ],
      "execution_count": 38,
      "outputs": [
        {
          "output_type": "stream",
          "text": [
            "--------------------------------------------------------------------------------\n",
            "senior citizens churning are 470 people or 41.51943462897527 %\n",
            "non_senior citizens churning are 1378 people or 23.53543979504697 %\n",
            "senior citizens are more likely to churn\n"
          ],
          "name": "stdout"
        },
        {
          "output_type": "display_data",
          "data": {
            "image/png": "[encoded data removed]",
            "text/plain": [
              "<Figure size 576x396 with 1 Axes>"
            ]
          },
          "metadata": {
            "tags": []
          }
        }
      ]
    },
    {
      "cell_type": "markdown",
      "metadata": {
        "id": "ZbrnInawVsyv"
      },
      "source": [
        "**Q3: Which payment method has the highest churn rate?**"
      ]
    },
    {
      "cell_type": "code",
      "metadata": {
        "id": "88OK95pTVsyv",
        "colab": {
          "base_uri": "https://localhost:8080/",
          "height": 448
        },
        "outputId": "88673c7d-a5af-4885-abfe-b0dd292ba929"
      },
      "source": [
        "df['Churn'] = df['Churn'].astype('category').cat.codes\r\n",
        "df['PaymentMethod'].astype('category').cat.codes\r\n",
        "\r\n",
        "x = sns.barplot(x='PaymentMethod', y='Churn', data=df)\r\n",
        "\r\n",
        "x=df[df['Churn']==1]\r\n",
        "Electronic_check=x.loc[df['PaymentMethod'] == 0, 'Churn'].count()\r\n",
        "j=df.loc[df['PaymentMethod'] == 0, 'Churn'].count()\r\n",
        "Electronic_check=Electronic_check/j*100\r\n",
        "\r\n",
        "Mail_check=x.loc[df['PaymentMethod'] == 1, 'Churn'].count()\r\n",
        "t=df.loc[df['PaymentMethod'] == 1, 'Churn'].count()\r\n",
        "Mail_check=Mail_check/t*100\r\n",
        "\r\n",
        "Bank_transfer=x.loc[df['PaymentMethod'] == 2, 'Churn'].count()\r\n",
        "v=df.loc[df['PaymentMethod'] == 2, 'Churn'].count()\r\n",
        "Bank_transfer=Bank_transfer/v*100\r\n",
        "\r\n",
        "Credit_card=x.loc[df['PaymentMethod'] == 3, 'Churn'].count()\r\n",
        "f=df.loc[df['PaymentMethod'] == 0, 'Churn'].count()\r\n",
        "Credit_card=Credit_card/f*100\r\n",
        "\r\n",
        "print(\"Electronic check rate is\",Electronic_check+'%')\r\n",
        "print(\"Mailed check rate is\",Mail_check+'%')\r\n",
        "print(\"Bank transfer (automatic) rate is\",Bank_transfer+'%')\r\n",
        "print(\"Credit card (automatic) rate is\",Credit_card+'%')\r\n",
        "print('according to the barplot the payment method that highest has the highest churn rate is Electronic check ')\r\n",
        "# the payment method that has the highest churn rate is Electronic check"
      ],
      "execution_count": 45,
      "outputs": [
        {
          "output_type": "stream",
          "text": [
            "Electronic check rate is 45.14066496163683\n",
            "Mailed check rate is 19.12772585669782\n",
            "Bank transfer (automatic) rate is 16.579292267365663\n",
            "Credit card (automatic) rate is 9.761295822676896\n",
            "according to the bar\n"
          ],
          "name": "stdout"
        },
        {
          "output_type": "display_data",
          "data": {
            "image/png": "[encoded data removed]",
            "text/plain": [
              "<Figure size 576x396 with 1 Axes>"
            ]
          },
          "metadata": {
            "tags": []
          }
        }
      ]
    },
    {
      "cell_type": "markdown",
      "metadata": {
        "id": "q2tn5RO2Vsyw"
      },
      "source": [
        "## Modelling"
      ]
    },
    {
      "cell_type": "code",
      "metadata": {
        "id": "GMyaEjRCVsyw"
      },
      "source": [
        "\r\n",
        "from sklearn.model_selection import train_test_split\r\n",
        "X = df_le.drop('Churn', axis=1)\r\n",
        "y = df_le['Churn']\r\n",
        "\r\n",
        "X_train, X_test, y_train, y_test = train_test_split(X, y, test_size=0.3, random_state=42)\r\n"
      ],
      "execution_count": 16,
      "outputs": []
    },
    {
      "cell_type": "code",
      "metadata": {
        "colab": {
          "base_uri": "https://localhost:8080/"
        },
        "id": "_nmbnKVTdTqN",
        "outputId": "75c7642c-9f3a-430e-8afa-bd24ab566d8f"
      },
      "source": [
        ""
      ],
      "execution_count": 17,
      "outputs": [
        {
          "output_type": "execute_result",
          "data": {
            "text/plain": [
              "KNeighborsClassifier(algorithm='auto', leaf_size=30, metric='minkowski',\n",
              "                     metric_params=None, n_jobs=None, n_neighbors=5, p=2,\n",
              "                     weights='uniform')"
            ]
          },
          "metadata": {
            "tags": []
          },
          "execution_count": 17
        }
      ]
    },
    {
      "cell_type": "code",
      "metadata": {
        "colab": {
          "base_uri": "https://localhost:8080/"
        },
        "id": "iuTLi8o9agEi",
        "outputId": "9fdbbfda-32d8-48e9-9a8b-57f7a4523df3"
      },
      "source": [
        ""
      ],
      "execution_count": 18,
      "outputs": [
        {
          "output_type": "stream",
          "text": [
            "/usr/local/lib/python3.6/dist-packages/sklearn/linear_model/_logistic.py:940: ConvergenceWarning: lbfgs failed to converge (status=1):\n",
            "STOP: TOTAL NO. of ITERATIONS REACHED LIMIT.\n",
            "\n",
            "Increase the number of iterations (max_iter) or scale the data as shown in:\n",
            "    https://scikit-learn.org/stable/modules/preprocessing.html\n",
            "Please also refer to the documentation for alternative solver options:\n",
            "    https://scikit-learn.org/stable/modules/linear_model.html#logistic-regression\n",
            "  extra_warning_msg=_LOGISTIC_SOLVER_CONVERGENCE_MSG)\n"
          ],
          "name": "stderr"
        },
        {
          "output_type": "execute_result",
          "data": {
            "text/plain": [
              "LogisticRegression(C=1.0, class_weight=None, dual=False, fit_intercept=True,\n",
              "                   intercept_scaling=1, l1_ratio=None, max_iter=100,\n",
              "                   multi_class='auto', n_jobs=None, penalty='l2',\n",
              "                   random_state=None, solver='lbfgs', tol=0.0001, verbose=0,\n",
              "                   warm_start=False)"
            ]
          },
          "metadata": {
            "tags": []
          },
          "execution_count": 18
        }
      ]
    },
    {
      "cell_type": "code",
      "metadata": {
        "id": "gZ0uKQwHepwb",
        "colab": {
          "base_uri": "https://localhost:8080/"
        },
        "outputId": "c3d95264-d0e2-414e-d455-e1f629137ee0"
      },
      "source": [
        "from sklearn.naive_bayes import GaussianNB\r\n",
        "nb_model = GaussianNB()\r\n",
        "nb_model.fit(X_train, y_train)"
      ],
      "execution_count": 19,
      "outputs": [
        {
          "output_type": "execute_result",
          "data": {
            "text/plain": [
              "GaussianNB(priors=None, var_smoothing=1e-09)"
            ]
          },
          "metadata": {
            "tags": []
          },
          "execution_count": 19
        }
      ]
    },
    {
      "cell_type": "code",
      "metadata": {
        "id": "4qex3ChHe1rF"
      },
      "source": [
        ""
      ],
      "execution_count": 19,
      "outputs": []
    },
    {
      "cell_type": "markdown",
      "metadata": {
        "id": "NwpwAX5AVsyw"
      },
      "source": [
        "## Evaluation"
      ]
    },
    {
      "cell_type": "code",
      "metadata": {
        "colab": {
          "base_uri": "https://localhost:8080/"
        },
        "id": "YJ7nf-J8avcC",
        "outputId": "2fa028a4-3747-40a8-d6aa-eba1bffe49ce"
      },
      "source": [
        "nb_model.score(X_test, y_test)"
      ],
      "execution_count": 21,
      "outputs": [
        {
          "output_type": "execute_result",
          "data": {
            "text/plain": [
              "0.7076776347162613"
            ]
          },
          "metadata": {
            "tags": []
          },
          "execution_count": 21
        }
      ]
    },
    {
      "cell_type": "code",
      "metadata": {
        "id": "NJ--oRrEVsyw",
        "colab": {
          "base_uri": "https://localhost:8080/"
        },
        "outputId": "e79a3709-a316-4226-bd2e-932fba3c6bb5"
      },
      "source": [
        ""
      ],
      "execution_count": 22,
      "outputs": [
        {
          "output_type": "execute_result",
          "data": {
            "text/plain": [
              "0.7253218884120172"
            ]
          },
          "metadata": {
            "tags": []
          },
          "execution_count": 22
        }
      ]
    },
    {
      "cell_type": "markdown",
      "metadata": {
        "id": "8VSfE7smVsyx"
      },
      "source": [
        "## Bonus (Optional)"
      ]
    },
    {
      "cell_type": "code",
      "metadata": {
        "id": "hsjkyAJ_Vsyx"
      },
      "source": [
        "from sklearn.neighbors import KNeighborsClassifier\r\n",
        "knn_model = KNeighborsClassifier()\r\n",
        "knn_model.fit(X_train, y_train)\r\n"
      ],
      "execution_count": 22,
      "outputs": []
    },
    {
      "cell_type": "code",
      "metadata": {
        "id": "yRQnVUTJqJPB"
      },
      "source": [
        "knn_model.score(X_test, y_test)"
      ],
      "execution_count": null,
      "outputs": []
    }
  ]
}